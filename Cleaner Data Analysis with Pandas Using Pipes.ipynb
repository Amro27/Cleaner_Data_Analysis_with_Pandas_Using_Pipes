{
 "cells": [
  {
   "cell_type": "code",
   "execution_count": 21,
   "metadata": {},
   "outputs": [],
   "source": [
    "import warnings\n",
    "warnings.filterwarnings(\"ignore\")"
   ]
  },
  {
   "cell_type": "code",
   "execution_count": 22,
   "metadata": {},
   "outputs": [
    {
     "data": {
      "text/html": [
       "<div>\n",
       "<style scoped>\n",
       "    .dataframe tbody tr th:only-of-type {\n",
       "        vertical-align: middle;\n",
       "    }\n",
       "\n",
       "    .dataframe tbody tr th {\n",
       "        vertical-align: top;\n",
       "    }\n",
       "\n",
       "    .dataframe thead th {\n",
       "        text-align: right;\n",
       "    }\n",
       "</style>\n",
       "<table border=\"1\" class=\"dataframe\">\n",
       "  <thead>\n",
       "    <tr style=\"text-align: right;\">\n",
       "      <th></th>\n",
       "      <th>Age</th>\n",
       "      <th>Gender</th>\n",
       "      <th>OwnHome</th>\n",
       "      <th>Married</th>\n",
       "      <th>Location</th>\n",
       "      <th>Salary</th>\n",
       "      <th>Children</th>\n",
       "      <th>History</th>\n",
       "      <th>Catalogs</th>\n",
       "      <th>AmountSpent</th>\n",
       "    </tr>\n",
       "  </thead>\n",
       "  <tbody>\n",
       "    <tr>\n",
       "      <th>0</th>\n",
       "      <td>Old</td>\n",
       "      <td>Female</td>\n",
       "      <td>Own</td>\n",
       "      <td>Single</td>\n",
       "      <td>Far</td>\n",
       "      <td>47500</td>\n",
       "      <td>0</td>\n",
       "      <td>High</td>\n",
       "      <td>6</td>\n",
       "      <td>755</td>\n",
       "    </tr>\n",
       "    <tr>\n",
       "      <th>1</th>\n",
       "      <td>Middle</td>\n",
       "      <td>Male</td>\n",
       "      <td>Rent</td>\n",
       "      <td>Single</td>\n",
       "      <td>Close</td>\n",
       "      <td>63600</td>\n",
       "      <td>0</td>\n",
       "      <td>High</td>\n",
       "      <td>6</td>\n",
       "      <td>1318</td>\n",
       "    </tr>\n",
       "    <tr>\n",
       "      <th>2</th>\n",
       "      <td>Young</td>\n",
       "      <td>Female</td>\n",
       "      <td>Rent</td>\n",
       "      <td>Single</td>\n",
       "      <td>Close</td>\n",
       "      <td>13500</td>\n",
       "      <td>0</td>\n",
       "      <td>Low</td>\n",
       "      <td>18</td>\n",
       "      <td>296</td>\n",
       "    </tr>\n",
       "    <tr>\n",
       "      <th>3</th>\n",
       "      <td>Middle</td>\n",
       "      <td>Male</td>\n",
       "      <td>Own</td>\n",
       "      <td>Married</td>\n",
       "      <td>Close</td>\n",
       "      <td>85600</td>\n",
       "      <td>1</td>\n",
       "      <td>High</td>\n",
       "      <td>18</td>\n",
       "      <td>2436</td>\n",
       "    </tr>\n",
       "    <tr>\n",
       "      <th>4</th>\n",
       "      <td>Middle</td>\n",
       "      <td>Female</td>\n",
       "      <td>Own</td>\n",
       "      <td>Single</td>\n",
       "      <td>Close</td>\n",
       "      <td>68400</td>\n",
       "      <td>0</td>\n",
       "      <td>High</td>\n",
       "      <td>12</td>\n",
       "      <td>1304</td>\n",
       "    </tr>\n",
       "  </tbody>\n",
       "</table>\n",
       "</div>"
      ],
      "text/plain": [
       "      Age  Gender OwnHome  Married Location  Salary  Children History  \\\n",
       "0     Old  Female     Own   Single      Far   47500         0    High   \n",
       "1  Middle    Male    Rent   Single    Close   63600         0    High   \n",
       "2   Young  Female    Rent   Single    Close   13500         0     Low   \n",
       "3  Middle    Male     Own  Married    Close   85600         1    High   \n",
       "4  Middle  Female     Own   Single    Close   68400         0    High   \n",
       "\n",
       "   Catalogs  AmountSpent  \n",
       "0         6          755  \n",
       "1         6         1318  \n",
       "2        18          296  \n",
       "3        18         2436  \n",
       "4        12         1304  "
      ]
     },
     "execution_count": 22,
     "metadata": {},
     "output_type": "execute_result"
    }
   ],
   "source": [
    "import numpy as np\n",
    "import pandas as pd\n",
    "\n",
    "marketing = pd.read_csv(\"DirectMarketing.csv\")\n",
    "marketing.head()"
   ]
  },
  {
   "cell_type": "code",
   "execution_count": 2,
   "metadata": {},
   "outputs": [],
   "source": [
    "thresh = len(marketing) * 0.6\n",
    "marketing.dropna(axis=1, thresh=thresh, inplace=True)"
   ]
  },
  {
   "cell_type": "code",
   "execution_count": 3,
   "metadata": {},
   "outputs": [],
   "source": [
    "low = np.quantile(marketing.Salary, 0.05)\n",
    "high = np.quantile(marketing.Salary, 0.95)\n",
    "\n",
    "marketing = marketing[marketing.Salary.between(low, high)]"
   ]
  },
  {
   "cell_type": "code",
   "execution_count": 5,
   "metadata": {},
   "outputs": [],
   "source": [
    "cols = marketing.select_dtypes(include='object').columns\n",
    "for col in cols:\n",
    "    ratio = len(marketing[col].value_counts()) / len(marketing)\n",
    "    if ratio < 0.05:\n",
    "        marketing[col] = marketing[col].astype('category')"
   ]
  },
  {
   "cell_type": "code",
   "execution_count": 14,
   "metadata": {},
   "outputs": [],
   "source": [
    "def drop_missing(df):\n",
    "    thresh = len(df) * 0.6\n",
    "    df.dropna(axis=1, thresh=thresh, inplace=True)\n",
    "    return df\n",
    "\n",
    "def remove_outliers(df, column_name):\n",
    "    low = np.quantile(df[column_name], 0.05)\n",
    "    high = np.quantile(df[column_name], 0.95)\n",
    "    return df[df[column_name].between(low, high, inclusive=True)]\n",
    "\n",
    "def to_category(df):\n",
    "    cols = df.select_dtypes(include='object').columns\n",
    "    for col in cols:\n",
    "        ratio = len(df[col].value_counts()) / len(df)\n",
    "        if ratio < 0.05:\n",
    "            df[col] = df[col].astype('category')\n",
    "    return df"
   ]
  },
  {
   "cell_type": "code",
   "execution_count": 23,
   "metadata": {},
   "outputs": [],
   "source": [
    "marketing_cleaned = (marketing.\n",
    "                       pipe(drop_missing).\n",
    "                       pipe(remove_outliers, 'Salary').\n",
    "                       pipe(to_category))"
   ]
  },
  {
   "cell_type": "code",
   "execution_count": 24,
   "metadata": {},
   "outputs": [],
   "source": [
    "def copy_df(df):\n",
    "    return df.copy()\n",
    "\n",
    "marketing_cleaned = (marketing.\n",
    "                       pipe(copy_df).\n",
    "                       pipe(drop_missing).\n",
    "                       pipe(remove_outliers, 'Salary').\n",
    "                       pipe(to_category))"
   ]
  },
  {
   "cell_type": "code",
   "execution_count": 25,
   "metadata": {},
   "outputs": [
    {
     "data": {
      "text/plain": [
       "(1000, 10)"
      ]
     },
     "execution_count": 25,
     "metadata": {},
     "output_type": "execute_result"
    }
   ],
   "source": [
    "marketing.shape"
   ]
  },
  {
   "cell_type": "code",
   "execution_count": 26,
   "metadata": {},
   "outputs": [
    {
     "data": {
      "text/plain": [
       "(900, 10)"
      ]
     },
     "execution_count": 26,
     "metadata": {},
     "output_type": "execute_result"
    }
   ],
   "source": [
    "marketing_cleaned.shape"
   ]
  },
  {
   "cell_type": "code",
   "execution_count": 27,
   "metadata": {},
   "outputs": [
    {
     "data": {
      "text/plain": [
       "Age            object\n",
       "Gender         object\n",
       "OwnHome        object\n",
       "Married        object\n",
       "Location       object\n",
       "Salary          int64\n",
       "Children        int64\n",
       "History        object\n",
       "Catalogs        int64\n",
       "AmountSpent     int64\n",
       "dtype: object"
      ]
     },
     "execution_count": 27,
     "metadata": {},
     "output_type": "execute_result"
    }
   ],
   "source": [
    "marketing.dtypes"
   ]
  },
  {
   "cell_type": "code",
   "execution_count": 28,
   "metadata": {},
   "outputs": [
    {
     "data": {
      "text/plain": [
       "Age            category\n",
       "Gender         category\n",
       "OwnHome        category\n",
       "Married        category\n",
       "Location       category\n",
       "Salary            int64\n",
       "Children          int64\n",
       "History        category\n",
       "Catalogs          int64\n",
       "AmountSpent       int64\n",
       "dtype: object"
      ]
     },
     "execution_count": 28,
     "metadata": {},
     "output_type": "execute_result"
    }
   ],
   "source": [
    "marketing_cleaned.dtypes"
   ]
  },
  {
   "cell_type": "code",
   "execution_count": null,
   "metadata": {},
   "outputs": [],
   "source": []
  }
 ],
 "metadata": {
  "kernelspec": {
   "display_name": "Python 3",
   "language": "python",
   "name": "python3"
  },
  "language_info": {
   "codemirror_mode": {
    "name": "ipython",
    "version": 3
   },
   "file_extension": ".py",
   "mimetype": "text/x-python",
   "name": "python",
   "nbconvert_exporter": "python",
   "pygments_lexer": "ipython3",
   "version": "3.8.7"
  }
 },
 "nbformat": 4,
 "nbformat_minor": 4
}
